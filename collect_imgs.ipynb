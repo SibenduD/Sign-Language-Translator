{
 "cells": [
  {
   "cell_type": "code",
   "execution_count": 1,
   "id": "2ecebbb7",
   "metadata": {},
   "outputs": [
    {
     "name": "stdout",
     "output_type": "stream",
     "text": [
      "Requirement already satisfied: opencv-python in c:\\users\\sibendu das\\appdata\\local\\programs\\python\\python311\\lib\\site-packages (4.9.0.80)\n",
      "Requirement already satisfied: numpy>=1.21.2 in c:\\users\\sibendu das\\appdata\\local\\programs\\python\\python311\\lib\\site-packages (from opencv-python) (1.26.4)\n"
     ]
    },
    {
     "name": "stderr",
     "output_type": "stream",
     "text": [
      "\n",
      "[notice] A new release of pip is available: 23.2.1 -> 24.0\n",
      "[notice] To update, run: python.exe -m pip install --upgrade pip\n"
     ]
    }
   ],
   "source": [
    "!pip install opencv-python"
   ]
  },
  {
   "cell_type": "code",
   "execution_count": 1,
   "id": "0de4611b",
   "metadata": {},
   "outputs": [
    {
     "name": "stdout",
     "output_type": "stream",
     "text": [
      "Collecting data for class 0\n",
      "Collecting data for class 1\n"
     ]
    }
   ],
   "source": [
    "import os # imports the 'os' module, which provides a way to use operating system dependent functionality\n",
    "\n",
    "import numpy as np #imports the 'numpy' module and assigns it the alias 'np'. Numpy is a popular library for numerical computations in Python\n",
    "import cv2  #imports the 'cv2' module, which is the Python interface for OpenCV\n",
    "from pathlib import Path #imports the 'Path' class from the 'pathlib' module. The 'pathlib' module provides an object-oriented interface for working with file system paths.\n",
    "\n",
    "\n",
    "DATA_DIR = './data4' #path to the directory which will contains the images captured \n",
    "if not os.path.exists(DATA_DIR): \n",
    "    os.makedirs(DATA_DIR)\n",
    "\n",
    "number_of_classes = 2#total number of classes\n",
    "dataset_size = 100 \n",
    " \n",
    "cap = cv2.VideoCapture(0) #initialising the device camera\n",
    "\n",
    "for j in range(number_of_classes):  #sets up a loop that iterates over a range of values from 0 to 'number_of_classes - 1'\n",
    "    '''\n",
    "    Checks if a directory does not exist at the specified path. It uses the \n",
    "    'os.path.join()' function to join the 'DATA_DIR' with the string representation of 'j'\n",
    "    '''\n",
    "    if not os.path.exists(os.path.join(DATA_DIR, str(j))): \n",
    "        os.makedirs(os.path.join(DATA_DIR, str(j))) #creates a new directory at the specified path\n",
    "\n",
    "    print('Collecting data for class {}'.format(j)) #prints a message in the console for which images will be collected \n",
    "\n",
    "    #done = False #By setting 'done' to 'False', the code intends to indicate that the task is not finished yet\n",
    "    while True: \n",
    "        ret, frame = cap.read()  #reads a frame from a video capture source (cap) and returns true when a frame is captured\n",
    "        cv2.putText(frame, 'Ready? Press \"Q\" ! :)', (100, 50), cv2.FONT_HERSHEY_SIMPLEX, 1.3, (0, 255, 0), 3, cv2.LINE_AA) #displays a message\n",
    "        cv2.imshow('frame', frame) #displays the frame in a window with the title 'frame' using the 'cv2.imshow()' function\n",
    "        key = cv2.waitKey(25)\n",
    "        if key == ord('Q') or key == ord('q'):\n",
    "             break\n",
    "        \n",
    "    counter = 0 # variable will be used to keep track of the number of frames processed\n",
    "\n",
    "    while counter < dataset_size: #starts a while loop that continues executing the indented block of code as long as the value of 'counter' is less than 'dataset_size'\n",
    "        ret, frame = cap.read() #reads a frame from 'cap'. cap.read() returns 'ret', which indicates if the 'frame' was successfully 'read', and 'frame' which contains the actual frame data.\n",
    "        if not ret:\n",
    "         print(\"Error: Failed to capture frame.\")\n",
    "         continue  # Skip this iteration and try to capture the next frame\n",
    "        cv2.imshow('frame', frame) #displays the frame in a window with the title 'frame' using the cv2.imshow() function\n",
    "        cv2.waitKey(25) #waits for a keyboard event for 25 milliseconds using the 'cv2.waitKey()' function\n",
    "        '''\n",
    "         It uses the 'cv2.imwrite()' function to write the frame data to a file. The file path is constructed using 'os.path.join()' \n",
    "         to join the 'DATA_DIR' (the directory path), 'str(j)' (a subdirectory specific to the class j), and '{}.jpg'.format(counter) \n",
    "         (the image filename, where counter is the current frame count).\n",
    "         '''\n",
    "        cv2.imwrite(os.path.join(DATA_DIR, str(j), '{}.jpg'.format(counter)), frame)\n",
    "\n",
    "        counter += 1 #ensures that the loop progresses to the next frame and updates the frame count\n"
   ]
  },
  {
   "cell_type": "code",
   "execution_count": 2,
   "id": "49ec6a4f",
   "metadata": {},
   "outputs": [],
   "source": [
    "cap.release() #releases the resources used by the VideoCapture object\n",
    "cv2.destroyAllWindows()"
   ]
  }
 ],
 "metadata": {
  "kernelspec": {
   "display_name": "Python 3 (ipykernel)",
   "language": "python",
   "name": "python3"
  },
  "language_info": {
   "codemirror_mode": {
    "name": "ipython",
    "version": 3
   },
   "file_extension": ".py",
   "mimetype": "text/x-python",
   "name": "python",
   "nbconvert_exporter": "python",
   "pygments_lexer": "ipython3",
   "version": "3.11.1"
  }
 },
 "nbformat": 4,
 "nbformat_minor": 5
}
